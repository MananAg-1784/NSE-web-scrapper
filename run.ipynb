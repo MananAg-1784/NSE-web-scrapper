{
 "cells": [
  {
   "cell_type": "code",
   "execution_count": 1,
   "metadata": {},
   "outputs": [],
   "source": [
    "# Importing all the dependencies and libraries\n",
    "from web_scrapper.get_data import nse_data\n",
    "from web_scrapper.values import *\n",
    "from config import current_folder\n",
    "import os\n",
    "import pandas as pd"
   ]
  },
  {
   "cell_type": "code",
   "execution_count": 2,
   "metadata": {},
   "outputs": [],
   "source": [
    "# Changing the current working directory\n",
    "'''\n",
    "current_folder = os.path.dirname(os.path.abspath(os.getcwd()))\n",
    "os.chdir(current_folder)\n",
    "print(current_folder)\n",
    "'''"
   ]
  },
  {
   "cell_type": "code",
   "execution_count": 3,
   "metadata": {},
   "outputs": [],
   "source": [
    "# Creating the NSE_data package class - object\n",
    "a = nse_data(current_folder)"
   ]
  },
  {
   "cell_type": "code",
   "execution_count": 4,
   "metadata": {},
   "outputs": [
    {
     "name": "stdout",
     "output_type": "stream",
     "text": [
      "Sending request to website : https://www.nseindia.com/products-services/indices-broad-market\n",
      "Session Initialized\n",
      "Response Recieved....\n",
      "Extracting all the Indices .....\n",
      "Sending request to website : https://www.nseindia.com/products-services/indices-sectoral\n",
      "Session Initialized\n",
      "Response Recieved....\n",
      "Extracting all the Indices .....\n",
      "Sending request to website : https://www.nseindia.com/products-services/indices-thematic\n",
      "Session Initialized\n",
      "Response Recieved....\n",
      "Extracting all the Indices .....\n",
      "\n",
      "---- Stats of the Collected Indices ---- \n",
      "Total indices collected : 71\n",
      "{'Broad Market': [{'name': 'Nifty 50 Index', 'url': 'https://www.nseindia.com/products-services/indices-nifty50-index'}, {'name': 'Nifty Next 50 Index', 'url': 'https://www.nseindia.com/products-services/indices-niftynext50-index'}, {'name': 'Nifty 100 Index', 'url': 'https://www.nseindia.com/products-services/indices-nifty100-index'}]}"
     ]
    }
   ],
   "source": [
    "# Getting all the Indices from NSE website\n",
    "# Data can be saved using `save_data = True`\n",
    "indices = a.get_all_indices()\n",
    "print(indices)"
   ]
  },
  {
   "cell_type": "code",
   "execution_count": 5,
   "metadata": {},
   "outputs": [
    {
     "name": "stdout",
     "output_type": "stream",
     "text": [
      "Market Sector :  Broad Market\n",
      "Total Indices present : 19\n",
      "Market Sector :  Sectoral\n",
      "Total Indices present : 19\n",
      "Market Sector :  Thematic\n",
      "Total Indices present : 33\n"
     ]
    }
   ],
   "source": [
    "# Stats about the extracted indices\n",
    "for i in indices.keys():\n",
    "    print(\"Market Sector : \", i)\n",
    "    print(\"Total Indices present :\", len(indices[i]))"
   ]
  },
  {
   "cell_type": "code",
   "execution_count": 6,
   "metadata": {},
   "outputs": [
    {
     "name": "stdout",
     "output_type": "stream",
     "text": [
      "Sending request to website : https://www.nseindia.com/products-services/indices-nifty50-index\n",
      "Session Initialized\n",
      "Response Recieved....\n",
      "\n",
      "Indice Name :  Nifty 50 Index \n",
      "Total Links Extracted :  569\n",
      "\n",
      "Extracting the CSV File....\n",
      "Url :  https://nsearchives.nseindia.com/content/indices/ind_nifty50list.csv\n",
      "--- CSV file downloaded ---\n",
      "\n",
      "Total Stocks : 50\n",
      "Columns : ['Company Name', 'Industry', 'Symbol', 'Series', 'ISIN Code']\n",
      "{'Company Name': 'Adani Enterprises Ltd.', 'Industry': 'Metals & Mining', 'Symbol': 'ADANIENT', 'Series': 'EQ', 'ISIN Code': 'INE423A01024'}\n"
     ]
    }
   ],
   "source": [
    "# How to reading and extract the stocks list from the indices.csv\n",
    "indices_links = None\n",
    "company_detail = None\n",
    "with open('D:\\Wealth Maven\\code\\stock_data\\Indices.csv') as f:\n",
    "    indice_links = pd.read_csv(f)\n",
    "\n",
    "for i in range(len(indice_links)):\n",
    "    indice = indice_links.loc[i]\n",
    "    indice_stocks = a.get_stocks_list(indice[\"link\"])\n",
    "    # Printing one companies data\n",
    "    company_detail = indice_stocks[0]\n",
    "    print(indice_stocks[0])\n",
    "    break"
   ]
  },
  {
   "cell_type": "code",
   "execution_count": 7,
   "metadata": {},
   "outputs": [
    {
     "name": "stdout",
     "output_type": "stream",
     "text": [
      "Sending request to website : https://www.nseindia.com/api/quote-equity?symbol=ADANIENT\n",
      "Session Initialized\n",
      "Response Recieved....\n",
      "Extracting information for the stock : ADANIENT\n",
      "\n",
      "Company :  ADANIENT\n",
      "\n",
      " metadata\n",
      "series : EQ\n",
      "symbol : ADANIENT\n",
      "isin : INE423A01024\n",
      "status : Listed\n",
      "listingDate : 04-Jun-1997\n",
      "industry : Trading - Minerals\n",
      "lastUpdateTime : 03-Sep-2024 16:00:00\n",
      "pdSectorPe : 76.06\n",
      "pdSymbolPe : 80.4\n",
      "pdSectorInd : NIFTY 50\n",
      "pdSectorIndAll : ['NIFTY 50', 'NIFTY 500', 'NIFTY METAL', 'NIFTY 200', 'NIFTY100 LIQUID 15', 'NIFTY HIGH BETA 50', 'NIFTY100 ESG', 'NIFTY50 EQUAL WEIGHT', 'NIFTY LARGEMIDCAP 250', 'NIFTY100 ESG SECTOR LEADERS', 'NIFTY500 MULTICAP 50:25:25', 'NIFTY500 LARGEMIDSMALL EQUAL-CAP WEIGHTED', 'NIFTY TOTAL MARKET', 'NIFTY500 EQUAL WEIGHT', 'NIFTY 100', 'NIFTY100 EQUAL WEIGHT']\n",
      "\n",
      " priceInfo\n",
      "lastPrice : 3035.95\n",
      "change : -6.200000000000273\n",
      "pChange : -0.2038032312673692\n",
      "previousClose : 3042.15\n",
      "open : 3037\n",
      "close : 3036.1\n",
      "vwap : 3036.89\n",
      "lowerCP : 2737.95\n",
      "upperCP : 3346.35\n",
      "pPriceBand : No Band\n",
      "basePrice : 3042.15\n",
      "intraDayHighLow : {'min': 3023.8, 'max': 3053.05, 'value': 3035.95}\n",
      "weekHighLow : {'min': 2142, 'minDate': '20-Nov-2023', 'max': 3743.9, 'maxDate': '03-Jun-2024', 'value': 3035.95}\n",
      "iNavValue : None\n",
      "checkINAV : False\n",
      "tickSize : 0.05\n",
      "\n",
      " industryInfo\n",
      "macro : Commodities\n",
      "sector : Metals & Mining\n",
      "industry : Metals & Minerals Trading\n",
      "basicIndustry : Trading - Minerals\n"
     ]
    }
   ],
   "source": [
    "# Getting all the details related to the particluar company\n",
    "# To get all the details set `raw_data = True`\n",
    "company_details = a.stock_data(company_detail[\"Symbol\"])\n",
    "print(\"\\nCompany : \", company_detail[\"Symbol\"])\n",
    "for i in company_details.keys():\n",
    "    print(\"\\n\",i)\n",
    "    for j in company_details[i].keys():\n",
    "        print(f\"{j} : {company_details[i][j]}\")\n"
   ]
  },
  {
   "cell_type": "code",
   "execution_count": 8,
   "metadata": {},
   "outputs": [
    {
     "name": "stdout",
     "output_type": "stream",
     "text": [
      "Sending request to website : https://www.nseindia.com/api/search/autocomplete?q=sey\n",
      "Session Initialized\n",
      "Response Recieved....\n",
      "Stocks with name : sey Total :  2 \n",
      "\n",
      "Symbol : SEYAIND, Compnay : Seya Industries Limited\n",
      "Symbol : LOTUSEYE, Compnay : Lotus Eye Hospital and Institute Limited\n"
     ]
    }
   ],
   "source": [
    "# Searching for available stocks with just string values\n",
    "string_value = \"sey\"\n",
    "result = a.search_stocks(string_value)\n",
    "\n",
    "for i in result:\n",
    "    print(f\"Symbol : {i['symbol']}, Compnay : {i['company']}\")"
   ]
  },
  {
   "cell_type": "code",
   "execution_count": 9,
   "metadata": {},
   "outputs": [
    {
     "name": "stdout",
     "output_type": "stream",
     "text": [
      "Session Initialized\n",
      "Url :  https://www.nseindia.com/api/historical/cm/equity?symbol=ADANIENT&series=[%22EQ%22]&from=27-08-2024&to=03-09-2024&csv=true\n",
      "Start date :  27-08-2024 \n",
      "End date :  03-09-2024\n",
      "         Date  series      OPEN      HIGH       LOW  PREV. CLOSE       ltp   \\\n",
      "0  02-Sep-2024      EQ  3,021.10  3,059.15  2,997.60     3,019.35  3,039.00   \n",
      "1  30-Aug-2024      EQ  3,030.00  3,038.55  3,003.30     3,020.15  3,033.00   \n",
      "2  29-Aug-2024      EQ  3,030.00  3,041.95  2,981.30     3,028.00  3,022.00   \n",
      "3  28-Aug-2024      EQ  3,078.00  3,078.00  3,022.10     3,067.10  3,028.00   \n",
      "4  27-Aug-2024      EQ  3,072.20  3,095.75  3,064.00     3,069.00  3,067.00   \n",
      "\n",
      "     close      vwap     52W H     52W L     VOLUME               VALUE   \\\n",
      "0  3,042.15  3,025.26  3,743.90  2,142.00  18,42,658   5,57,45,22,547.20   \n",
      "1  3,019.35  3,019.69  3,743.90  2,142.00  35,09,174  10,59,66,22,023.00   \n",
      "2  3,020.15  3,007.33  3,743.90  2,142.00  18,53,966   5,57,54,88,281.30   \n",
      "3  3,028.00  3,041.32  3,743.90  2,142.00  15,69,652   4,77,38,06,258.80   \n",
      "4  3,067.10  3,078.59  3,743.90  2,142.00  13,10,440   4,03,43,10,722.25   \n",
      "\n",
      "  No of trades   \n",
      "0        73,749  \n",
      "1        77,468  \n",
      "2      1,00,949  \n",
      "3        62,349  \n",
      "4        43,632  \n",
      "Data saved in file : D:\\Wealth Maven\\code\\stock_data\\ADANIENT_27-08-2024.csv\n"
     ]
    }
   ],
   "source": [
    "from datetime import datetime, timedelta\n",
    "\n",
    "# Extracting the values and prices of a stock\n",
    "# Set both start and end date\n",
    "# The data is saved in the `current_folder`\n",
    "symbol = company_detail[\"Symbol\"]\n",
    "start_date = datetime.now() - timedelta(days = 7)\n",
    "a.historical_stock_data(\n",
    "    symbol = symbol, \n",
    "    start_date = start_date )"
   ]
  },
  {
   "cell_type": "code",
   "execution_count": 54,
   "metadata": {},
   "outputs": [
    {
     "name": "stdout",
     "output_type": "stream",
     "text": [
      "['Unnamed: 0', 'Date ', 'series ', 'OPEN ', 'HIGH ', 'LOW ', 'PREV. CLOSE ', 'ltp ', 'close ', 'vwap ', '52W H ', '52W L ', 'VOLUME ', 'VALUE ', 'No of trades ']\n",
      "Total dates :  5\n"
     ]
    }
   ],
   "source": [
    "# The file will be stored in the `current folder`\n",
    "# File name => Symbol_start date\n",
    "\n",
    "location = f\"{current_folder}\\{symbol}_{start_date.strftime('%d-%m-%Y')}.csv\"\n",
    "stock_data = None\n",
    "with open(location, \"r\") as f:\n",
    "    stock_data = pd.read_csv(f) \n",
    "\n",
    "print(stock_data.columns.to_list())\n",
    "print(\"Total dates : \", len(stock_data))"
   ]
  },
  {
   "cell_type": "code",
   "execution_count": 55,
   "metadata": {},
   "outputs": [
    {
     "name": "stdout",
     "output_type": "stream",
     "text": [
      "['date', 'open', 'high', 'low', 'prev. close', 'ltp', 'close', 'vwap', '52w h', '52w l', 'volume', 'value', 'no of trades']\n"
     ]
    }
   ],
   "source": [
    "# Converting all the header values \n",
    "stock_data.columns = stock_data.columns.str.strip().str.lower()\n",
    "\n",
    "# removing the unwanted columns - Unnamed 0, series\n",
    "stock_data = stock_data.drop(columns = ['unnamed: 0', 'series'])\n",
    "\n",
    "print(stock_data.columns.to_list())"
   ]
  },
  {
   "cell_type": "code",
   "execution_count": 56,
   "metadata": {},
   "outputs": [
    {
     "name": "stderr",
     "output_type": "stream",
     "text": [
      "C:\\Users\\HP\\AppData\\Local\\Temp\\ipykernel_20436\\2877630798.py:2: FutureWarning: DataFrame.applymap has been deprecated. Use DataFrame.map instead.\n",
      "  stock_data.loc[:, stock_data.columns[1:]] = stock_data.loc[:, stock_data.columns[1:]].applymap(lambda x: x.replace(',', '') if isinstance(x, str) else x)\n"
     ]
    },
    {
     "data": {
      "text/html": [
       "<div>\n",
       "<style scoped>\n",
       "    .dataframe tbody tr th:only-of-type {\n",
       "        vertical-align: middle;\n",
       "    }\n",
       "\n",
       "    .dataframe tbody tr th {\n",
       "        vertical-align: top;\n",
       "    }\n",
       "\n",
       "    .dataframe thead th {\n",
       "        text-align: right;\n",
       "    }\n",
       "</style>\n",
       "<table border=\"1\" class=\"dataframe\">\n",
       "  <thead>\n",
       "    <tr style=\"text-align: right;\">\n",
       "      <th></th>\n",
       "      <th>high</th>\n",
       "      <th>low</th>\n",
       "      <th>prev. close</th>\n",
       "    </tr>\n",
       "  </thead>\n",
       "  <tbody>\n",
       "    <tr>\n",
       "      <th>0</th>\n",
       "      <td>3059.15</td>\n",
       "      <td>2997.60</td>\n",
       "      <td>3019.35</td>\n",
       "    </tr>\n",
       "    <tr>\n",
       "      <th>1</th>\n",
       "      <td>3038.55</td>\n",
       "      <td>3003.30</td>\n",
       "      <td>3020.15</td>\n",
       "    </tr>\n",
       "    <tr>\n",
       "      <th>2</th>\n",
       "      <td>3041.95</td>\n",
       "      <td>2981.30</td>\n",
       "      <td>3028.00</td>\n",
       "    </tr>\n",
       "    <tr>\n",
       "      <th>3</th>\n",
       "      <td>3078.00</td>\n",
       "      <td>3022.10</td>\n",
       "      <td>3067.10</td>\n",
       "    </tr>\n",
       "  </tbody>\n",
       "</table>\n",
       "</div>"
      ],
      "text/plain": [
       "      high      low prev. close\n",
       "0  3059.15  2997.60     3019.35\n",
       "1  3038.55  3003.30     3020.15\n",
       "2  3041.95  2981.30     3028.00\n",
       "3  3078.00  3022.10     3067.10"
      ]
     },
     "execution_count": 56,
     "metadata": {},
     "output_type": "execute_result"
    }
   ],
   "source": [
    "# removes all commas(,) from the numbers\n",
    "stock_data.loc[:, stock_data.columns[1:]] = stock_data.loc[:, stock_data.columns[1:]].applymap(lambda x: x.replace(',', '') if isinstance(x, str) else x)\n",
    "\n",
    "stock_data.loc[:3,stock_data.columns[2:5]]"
   ]
  },
  {
   "cell_type": "code",
   "execution_count": 57,
   "metadata": {},
   "outputs": [
    {
     "data": {
      "text/plain": [
       "date            object\n",
       "open            object\n",
       "high            object\n",
       "low             object\n",
       "prev. close     object\n",
       "ltp             object\n",
       "close           object\n",
       "vwap            object\n",
       "52w h           object\n",
       "52w l           object\n",
       "volume          object\n",
       "value           object\n",
       "no of trades    object\n",
       "dtype: object"
      ]
     },
     "execution_count": 57,
     "metadata": {},
     "output_type": "execute_result"
    }
   ],
   "source": [
    "stock_data.dtypes"
   ]
  },
  {
   "cell_type": "code",
   "execution_count": 58,
   "metadata": {},
   "outputs": [
    {
     "name": "stdout",
     "output_type": "stream",
     "text": [
      "date             object\n",
      "open            float64\n",
      "high            float64\n",
      "low             float64\n",
      "prev. close     float64\n",
      "ltp             float64\n",
      "close           float64\n",
      "vwap            float64\n",
      "52w h           float64\n",
      "52w l           float64\n",
      "volume            int64\n",
      "value           float64\n",
      "no of trades      int64\n",
      "dtype: object\n"
     ]
    }
   ],
   "source": [
    "# Convert all columns except date\n",
    "columns_to_change = stock_data.columns[1:]\n",
    "for columns in columns_to_change:\n",
    "    stock_data[columns] = stock_data[columns].astype('float64')\n",
    "\n",
    "# Changing the data types of [volumne, no of trades] - 'int64'\n",
    "stock_data = stock_data.astype({\n",
    "        'volume' : 'int64',\n",
    "        'no of trades' : 'int64'\n",
    "    })\n",
    "\n",
    "print(stock_data.dtypes)"
   ]
  },
  {
   "cell_type": "code",
   "execution_count": 60,
   "metadata": {},
   "outputs": [
    {
     "name": "stdout",
     "output_type": "stream",
     "text": [
      "              open         high          low  prev. close          ltp  \\\n",
      "count     5.000000     5.000000     5.000000     5.000000     5.000000   \n",
      "mean   3046.260000  3062.680000  3013.660000  3040.720000  3037.800000   \n",
      "std      26.655731    24.252721    31.692949    25.185626    17.484279   \n",
      "min    3021.100000  3038.550000  2981.300000  3019.350000  3022.000000   \n",
      "25%    3030.000000  3041.950000  2997.600000  3020.150000  3028.000000   \n",
      "50%    3030.000000  3059.150000  3003.300000  3028.000000  3033.000000   \n",
      "75%    3072.200000  3078.000000  3022.100000  3067.100000  3039.000000   \n",
      "max    3078.000000  3095.750000  3064.000000  3069.000000  3067.000000   \n",
      "\n",
      "            close         vwap   52w h   52w l        volume         value  \\\n",
      "count     5.00000     5.000000     5.0     5.0  5.000000e+00  5.000000e+00   \n",
      "mean   3035.35000  3034.438000  3743.9  2142.0  2.017178e+06  6.110950e+09   \n",
      "std      19.97101    27.537901     0.0     0.0  8.635545e+05  2.588248e+09   \n",
      "min    3019.35000  3007.330000  3743.9  2142.0  1.310440e+06  4.034311e+09   \n",
      "25%    3020.15000  3019.690000  3743.9  2142.0  1.569652e+06  4.773806e+09   \n",
      "50%    3028.00000  3025.260000  3743.9  2142.0  1.842658e+06  5.574523e+09   \n",
      "75%    3042.15000  3041.320000  3743.9  2142.0  1.853966e+06  5.575488e+09   \n",
      "max    3067.10000  3078.590000  3743.9  2142.0  3.509174e+06  1.059662e+10   \n",
      "\n",
      "       no of trades  high_low_diff  open_low_diff  \n",
      "count       5.00000       5.000000       5.000000  \n",
      "mean    71629.40000      49.020000      32.600000  \n",
      "std     21024.99185      14.382785      19.462014  \n",
      "min     43632.00000      31.750000       8.200000  \n",
      "25%     62349.00000      35.250000      23.500000  \n",
      "50%     73749.00000      55.900000      26.700000  \n",
      "75%     77468.00000      60.650000      48.700000  \n",
      "max    100949.00000      61.550000      55.900000  \n"
     ]
    },
    {
     "data": {
      "text/html": [
       "<div>\n",
       "<style scoped>\n",
       "    .dataframe tbody tr th:only-of-type {\n",
       "        vertical-align: middle;\n",
       "    }\n",
       "\n",
       "    .dataframe tbody tr th {\n",
       "        vertical-align: top;\n",
       "    }\n",
       "\n",
       "    .dataframe thead th {\n",
       "        text-align: right;\n",
       "    }\n",
       "</style>\n",
       "<table border=\"1\" class=\"dataframe\">\n",
       "  <thead>\n",
       "    <tr style=\"text-align: right;\">\n",
       "      <th></th>\n",
       "      <th>high_low_diff</th>\n",
       "      <th>open_low_diff</th>\n",
       "    </tr>\n",
       "  </thead>\n",
       "  <tbody>\n",
       "    <tr>\n",
       "      <th>0</th>\n",
       "      <td>61.55</td>\n",
       "      <td>23.5</td>\n",
       "    </tr>\n",
       "    <tr>\n",
       "      <th>1</th>\n",
       "      <td>35.25</td>\n",
       "      <td>26.7</td>\n",
       "    </tr>\n",
       "    <tr>\n",
       "      <th>2</th>\n",
       "      <td>60.65</td>\n",
       "      <td>48.7</td>\n",
       "    </tr>\n",
       "    <tr>\n",
       "      <th>3</th>\n",
       "      <td>55.90</td>\n",
       "      <td>55.9</td>\n",
       "    </tr>\n",
       "    <tr>\n",
       "      <th>4</th>\n",
       "      <td>31.75</td>\n",
       "      <td>8.2</td>\n",
       "    </tr>\n",
       "  </tbody>\n",
       "</table>\n",
       "</div>"
      ],
      "text/plain": [
       "   high_low_diff  open_low_diff\n",
       "0          61.55           23.5\n",
       "1          35.25           26.7\n",
       "2          60.65           48.7\n",
       "3          55.90           55.9\n",
       "4          31.75            8.2"
      ]
     },
     "execution_count": 60,
     "metadata": {},
     "output_type": "execute_result"
    }
   ],
   "source": [
    "# Getting some statistical data out of the stocks price\n",
    "\n",
    "print(stock_data.describe())\n",
    "\n",
    "# Calculating the volatility of the stock prices in each day\n",
    "stock_data['high_low_diff'] = stock_data['high'] - stock_data['low']\n",
    "stock_data['open_low_diff'] = stock_data['open'] - stock_data['low']\n",
    "\n",
    "stock_data[[\"high_low_diff\",\"open_low_diff\"]]"
   ]
  }
 ],
 "metadata": {
  "kernelspec": {
   "display_name": "Python 3",
   "language": "python",
   "name": "python3"
  },
  "language_info": {
   "codemirror_mode": {
    "name": "ipython",
    "version": 3
   },
   "file_extension": ".py",
   "mimetype": "text/x-python",
   "name": "python",
   "nbconvert_exporter": "python",
   "pygments_lexer": "ipython3",
   "version": "3.11.7"
  }
 },
 "nbformat": 4,
 "nbformat_minor": 2
}
