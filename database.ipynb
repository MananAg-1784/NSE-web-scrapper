{
 "cells": [
  {
   "cell_type": "code",
   "execution_count": 5,
   "metadata": {},
   "outputs": [],
   "source": [
    "from config import current_folder, stocks_database\n",
    "import pymysql"
   ]
  },
  {
   "cell_type": "code",
   "execution_count": 6,
   "metadata": {},
   "outputs": [],
   "source": [
    "# Connection to the database\n",
    "try:\n",
    "    conn = pymysql.connect(\n",
    "        host=stocks_database[\"endpoint\"],\n",
    "        user=stocks_database[\"user\"],\n",
    "        password=stocks_database[\"password\"],\n",
    "        database=stocks_database[\"dbname\"])\n",
    "except Exception as e:\n",
    "    print(\"Connection error to database\", e)"
   ]
  },
  {
   "cell_type": "code",
   "execution_count": 7,
   "metadata": {},
   "outputs": [
    {
     "name": "stdout",
     "output_type": "stream",
     "text": [
      "accounts\n",
      "constraint_indice\n",
      "constraint_industry\n",
      "constraint_sector\n",
      "constraints\n",
      "indices\n",
      "industry\n",
      "investment_goals\n",
      "optimized_portfolio\n",
      "optimized_portfolio_stocks\n",
      "portfolio_stocks\n",
      "prices\n",
      "profiles\n",
      "risk_answers\n",
      "risk_assessment\n",
      "risk_questions\n",
      "sectors\n",
      "stock_indices\n",
      "stock_info\n",
      "stocks\n",
      "users\n"
     ]
    }
   ],
   "source": [
    "cursor = conn.cursor()\n",
    "cursor.execute(\"Show tables\")\n",
    "\n",
    "# Printing all the tables present\n",
    "for i in cursor.fetchall():\n",
    "    print(i[0])\n",
    "\n",
    "# For inserting and updating queries\n",
    "# conn.commit()"
   ]
  },
  {
   "cell_type": "code",
   "execution_count": 8,
   "metadata": {},
   "outputs": [],
   "source": [
    "# Closing the connections\n",
    "cursor.close()\n",
    "conn.close()"
   ]
  }
 ],
 "metadata": {
  "kernelspec": {
   "display_name": "Python 3",
   "language": "python",
   "name": "python3"
  },
  "language_info": {
   "codemirror_mode": {
    "name": "ipython",
    "version": 3
   },
   "file_extension": ".py",
   "mimetype": "text/x-python",
   "name": "python",
   "nbconvert_exporter": "python",
   "pygments_lexer": "ipython3",
   "version": "3.11.7"
  }
 },
 "nbformat": 4,
 "nbformat_minor": 2
}
